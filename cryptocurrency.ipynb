{
 "metadata": {
  "language_info": {
   "codemirror_mode": {
    "name": "ipython",
    "version": 3
   },
   "file_extension": ".py",
   "mimetype": "text/x-python",
   "name": "python",
   "nbconvert_exporter": "python",
   "pygments_lexer": "ipython3",
   "version": "3.7.3-final"
  },
  "orig_nbformat": 2,
  "kernelspec": {
   "name": "python3",
   "display_name": "Python 3"
  }
 },
 "nbformat": 4,
 "nbformat_minor": 2,
 "cells": [
  {
   "cell_type": "code",
   "execution_count": 1,
   "metadata": {},
   "outputs": [],
   "source": [
    "#importing liberaries\n",
    "\n",
    "import pandas as pd \n",
    "from pandas import Series, DataFrame\n",
    "import numpy as np \n",
    "from scipy.stats import beta, norm, expon, gamma, uniform\n",
    "import matplotlib.pyplot as plt "
   ]
  },
  {
   "source": [
    "# 1. Load The Data"
   ],
   "cell_type": "markdown",
   "metadata": {}
  },
  {
   "cell_type": "code",
   "execution_count": 2,
   "metadata": {},
   "outputs": [
    {
     "output_type": "execute_result",
     "data": {
      "text/plain": [
       "         Currency          Date  Open  High   Low Close      Volume  \\\n",
       "0           tezos  Dec 04, 2019  1.29  1.32  1.25  1.25  46,048,752   \n",
       "1           tezos  Dec 03, 2019  1.24  1.32  1.21  1.29  41,462,224   \n",
       "2           tezos  Dec 02, 2019  1.25  1.26  1.20  1.24  27,574,097   \n",
       "3           tezos  Dec 01, 2019  1.33  1.34  1.25  1.25  24,127,567   \n",
       "4           tezos  Nov 30, 2019  1.31  1.37  1.31  1.33  28,706,667   \n",
       "...           ...           ...   ...   ...   ...   ...         ...   \n",
       "28939  bitcoin-sv  May 02, 2013  3.78  4.04  3.01  3.37           0   \n",
       "28940  bitcoin-sv  May 01, 2013  4.29  4.36  3.52  3.80           0   \n",
       "28941  bitcoin-sv  Apr 30, 2013  4.40  4.57  4.17  4.30           0   \n",
       "28942  bitcoin-sv  Apr 29, 2013  4.37  4.57  4.23  4.38           0   \n",
       "28943  bitcoin-sv  Apr 28, 2013  4.30  4.40  4.18  4.35           0   \n",
       "\n",
       "        Market Cap  \n",
       "0      824,588,509  \n",
       "1      853,213,342  \n",
       "2      817,872,179  \n",
       "3      828,296,390  \n",
       "4      879,181,680  \n",
       "...            ...  \n",
       "28939   58,287,979  \n",
       "28940   65,604,596  \n",
       "28941   74,020,918  \n",
       "28942   75,388,964  \n",
       "28943   74,636,938  \n",
       "\n",
       "[28944 rows x 8 columns]"
      ],
      "text/html": "<div>\n<style scoped>\n    .dataframe tbody tr th:only-of-type {\n        vertical-align: middle;\n    }\n\n    .dataframe tbody tr th {\n        vertical-align: top;\n    }\n\n    .dataframe thead th {\n        text-align: right;\n    }\n</style>\n<table border=\"1\" class=\"dataframe\">\n  <thead>\n    <tr style=\"text-align: right;\">\n      <th></th>\n      <th>Currency</th>\n      <th>Date</th>\n      <th>Open</th>\n      <th>High</th>\n      <th>Low</th>\n      <th>Close</th>\n      <th>Volume</th>\n      <th>Market Cap</th>\n    </tr>\n  </thead>\n  <tbody>\n    <tr>\n      <th>0</th>\n      <td>tezos</td>\n      <td>Dec 04, 2019</td>\n      <td>1.29</td>\n      <td>1.32</td>\n      <td>1.25</td>\n      <td>1.25</td>\n      <td>46,048,752</td>\n      <td>824,588,509</td>\n    </tr>\n    <tr>\n      <th>1</th>\n      <td>tezos</td>\n      <td>Dec 03, 2019</td>\n      <td>1.24</td>\n      <td>1.32</td>\n      <td>1.21</td>\n      <td>1.29</td>\n      <td>41,462,224</td>\n      <td>853,213,342</td>\n    </tr>\n    <tr>\n      <th>2</th>\n      <td>tezos</td>\n      <td>Dec 02, 2019</td>\n      <td>1.25</td>\n      <td>1.26</td>\n      <td>1.20</td>\n      <td>1.24</td>\n      <td>27,574,097</td>\n      <td>817,872,179</td>\n    </tr>\n    <tr>\n      <th>3</th>\n      <td>tezos</td>\n      <td>Dec 01, 2019</td>\n      <td>1.33</td>\n      <td>1.34</td>\n      <td>1.25</td>\n      <td>1.25</td>\n      <td>24,127,567</td>\n      <td>828,296,390</td>\n    </tr>\n    <tr>\n      <th>4</th>\n      <td>tezos</td>\n      <td>Nov 30, 2019</td>\n      <td>1.31</td>\n      <td>1.37</td>\n      <td>1.31</td>\n      <td>1.33</td>\n      <td>28,706,667</td>\n      <td>879,181,680</td>\n    </tr>\n    <tr>\n      <th>...</th>\n      <td>...</td>\n      <td>...</td>\n      <td>...</td>\n      <td>...</td>\n      <td>...</td>\n      <td>...</td>\n      <td>...</td>\n      <td>...</td>\n    </tr>\n    <tr>\n      <th>28939</th>\n      <td>bitcoin-sv</td>\n      <td>May 02, 2013</td>\n      <td>3.78</td>\n      <td>4.04</td>\n      <td>3.01</td>\n      <td>3.37</td>\n      <td>0</td>\n      <td>58,287,979</td>\n    </tr>\n    <tr>\n      <th>28940</th>\n      <td>bitcoin-sv</td>\n      <td>May 01, 2013</td>\n      <td>4.29</td>\n      <td>4.36</td>\n      <td>3.52</td>\n      <td>3.80</td>\n      <td>0</td>\n      <td>65,604,596</td>\n    </tr>\n    <tr>\n      <th>28941</th>\n      <td>bitcoin-sv</td>\n      <td>Apr 30, 2013</td>\n      <td>4.40</td>\n      <td>4.57</td>\n      <td>4.17</td>\n      <td>4.30</td>\n      <td>0</td>\n      <td>74,020,918</td>\n    </tr>\n    <tr>\n      <th>28942</th>\n      <td>bitcoin-sv</td>\n      <td>Apr 29, 2013</td>\n      <td>4.37</td>\n      <td>4.57</td>\n      <td>4.23</td>\n      <td>4.38</td>\n      <td>0</td>\n      <td>75,388,964</td>\n    </tr>\n    <tr>\n      <th>28943</th>\n      <td>bitcoin-sv</td>\n      <td>Apr 28, 2013</td>\n      <td>4.30</td>\n      <td>4.40</td>\n      <td>4.18</td>\n      <td>4.35</td>\n      <td>0</td>\n      <td>74,636,938</td>\n    </tr>\n  </tbody>\n</table>\n<p>28944 rows × 8 columns</p>\n</div>"
     },
     "metadata": {},
     "execution_count": 2
    }
   ],
   "source": [
    "# Loading Data\n",
    "df = pd.read_csv(\"cryptocurrency.csv\")\n",
    "df"
   ]
  },
  {
   "source": [
    "# 2. Print head and tail"
   ],
   "cell_type": "markdown",
   "metadata": {}
  },
  {
   "cell_type": "code",
   "execution_count": 3,
   "metadata": {},
   "outputs": [
    {
     "output_type": "stream",
     "name": "stdout",
     "text": [
      "\nTop 5 columns\n\n   Currency          Date  Open  High   Low Close      Volume   Market Cap\n0    tezos  Dec 04, 2019  1.29  1.32  1.25  1.25  46,048,752  824,588,509\n1    tezos  Dec 03, 2019  1.24  1.32  1.21  1.29  41,462,224  853,213,342\n2    tezos  Dec 02, 2019  1.25  1.26  1.20  1.24  27,574,097  817,872,179\n3    tezos  Dec 01, 2019  1.33  1.34  1.25  1.25  24,127,567  828,296,390\n4    tezos  Nov 30, 2019  1.31  1.37  1.31  1.33  28,706,667  879,181,680\n\nLast 5 columns\n          Currency          Date  Open  High   Low Close Volume  Market Cap\n28939  bitcoin-sv  May 02, 2013  3.78  4.04  3.01  3.37      0  58,287,979\n28940  bitcoin-sv  May 01, 2013  4.29  4.36  3.52  3.80      0  65,604,596\n28941  bitcoin-sv  Apr 30, 2013  4.40  4.57  4.17  4.30      0  74,020,918\n28942  bitcoin-sv  Apr 29, 2013  4.37  4.57  4.23  4.38      0  75,388,964\n28943  bitcoin-sv  Apr 28, 2013  4.30  4.40  4.18  4.35      0  74,636,938\n"
     ]
    }
   ],
   "source": [
    "# print head and tail of the data\n",
    "print(\"\\nTop 5 columns\\n\\n\",df.head())\n",
    "print(\"\\nLast 5 columns\\n\",df.tail())"
   ]
  },
  {
   "cell_type": "code",
   "execution_count": 4,
   "metadata": {},
   "outputs": [
    {
     "output_type": "stream",
     "name": "stdout",
     "text": [
      "<class 'pandas.core.frame.DataFrame'>\nRangeIndex: 28944 entries, 0 to 28943\nData columns (total 8 columns):\n #   Column      Non-Null Count  Dtype \n---  ------      --------------  ----- \n 0   Currency    28944 non-null  object\n 1   Date        28944 non-null  object\n 2   Open        28944 non-null  object\n 3   High        28944 non-null  object\n 4   Low         28944 non-null  object\n 5   Close       28944 non-null  object\n 6   Volume      28944 non-null  object\n 7   Market Cap  28944 non-null  object\ndtypes: object(8)\nmemory usage: 1.8+ MB\n"
     ]
    }
   ],
   "source": [
    "# getting info\n",
    "df.info()"
   ]
  },
  {
   "cell_type": "code",
   "execution_count": 5,
   "metadata": {},
   "outputs": [
    {
     "output_type": "execute_result",
     "data": {
      "text/plain": [
       "Currency      0\n",
       "Date          0\n",
       "Open          0\n",
       "High          0\n",
       "Low           0\n",
       "Close         0\n",
       "Volume        0\n",
       "Market Cap    0\n",
       "dtype: int64"
      ]
     },
     "metadata": {},
     "execution_count": 5
    }
   ],
   "source": [
    "# checking null values in data\n",
    "df.isnull().sum()"
   ]
  },
  {
   "source": [
    "# 3. Market Cap Column: Remove comma sign and store the values as integer"
   ],
   "cell_type": "markdown",
   "metadata": {}
  },
  {
   "cell_type": "code",
   "execution_count": 6,
   "metadata": {},
   "outputs": [
    {
     "output_type": "execute_result",
     "data": {
      "text/plain": [
       "         Currency          Date  Open  High   Low Close      Volume Market Cap\n",
       "0           tezos  Dec 04, 2019  1.29  1.32  1.25  1.25  46,048,752  824588509\n",
       "1           tezos  Dec 03, 2019  1.24  1.32  1.21  1.29  41,462,224  853213342\n",
       "2           tezos  Dec 02, 2019  1.25  1.26  1.20  1.24  27,574,097  817872179\n",
       "3           tezos  Dec 01, 2019  1.33  1.34  1.25  1.25  24,127,567  828296390\n",
       "4           tezos  Nov 30, 2019  1.31  1.37  1.31  1.33  28,706,667  879181680\n",
       "...           ...           ...   ...   ...   ...   ...         ...        ...\n",
       "28939  bitcoin-sv  May 02, 2013  3.78  4.04  3.01  3.37           0   58287979\n",
       "28940  bitcoin-sv  May 01, 2013  4.29  4.36  3.52  3.80           0   65604596\n",
       "28941  bitcoin-sv  Apr 30, 2013  4.40  4.57  4.17  4.30           0   74020918\n",
       "28942  bitcoin-sv  Apr 29, 2013  4.37  4.57  4.23  4.38           0   75388964\n",
       "28943  bitcoin-sv  Apr 28, 2013  4.30  4.40  4.18  4.35           0   74636938\n",
       "\n",
       "[28944 rows x 8 columns]"
      ],
      "text/html": "<div>\n<style scoped>\n    .dataframe tbody tr th:only-of-type {\n        vertical-align: middle;\n    }\n\n    .dataframe tbody tr th {\n        vertical-align: top;\n    }\n\n    .dataframe thead th {\n        text-align: right;\n    }\n</style>\n<table border=\"1\" class=\"dataframe\">\n  <thead>\n    <tr style=\"text-align: right;\">\n      <th></th>\n      <th>Currency</th>\n      <th>Date</th>\n      <th>Open</th>\n      <th>High</th>\n      <th>Low</th>\n      <th>Close</th>\n      <th>Volume</th>\n      <th>Market Cap</th>\n    </tr>\n  </thead>\n  <tbody>\n    <tr>\n      <th>0</th>\n      <td>tezos</td>\n      <td>Dec 04, 2019</td>\n      <td>1.29</td>\n      <td>1.32</td>\n      <td>1.25</td>\n      <td>1.25</td>\n      <td>46,048,752</td>\n      <td>824588509</td>\n    </tr>\n    <tr>\n      <th>1</th>\n      <td>tezos</td>\n      <td>Dec 03, 2019</td>\n      <td>1.24</td>\n      <td>1.32</td>\n      <td>1.21</td>\n      <td>1.29</td>\n      <td>41,462,224</td>\n      <td>853213342</td>\n    </tr>\n    <tr>\n      <th>2</th>\n      <td>tezos</td>\n      <td>Dec 02, 2019</td>\n      <td>1.25</td>\n      <td>1.26</td>\n      <td>1.20</td>\n      <td>1.24</td>\n      <td>27,574,097</td>\n      <td>817872179</td>\n    </tr>\n    <tr>\n      <th>3</th>\n      <td>tezos</td>\n      <td>Dec 01, 2019</td>\n      <td>1.33</td>\n      <td>1.34</td>\n      <td>1.25</td>\n      <td>1.25</td>\n      <td>24,127,567</td>\n      <td>828296390</td>\n    </tr>\n    <tr>\n      <th>4</th>\n      <td>tezos</td>\n      <td>Nov 30, 2019</td>\n      <td>1.31</td>\n      <td>1.37</td>\n      <td>1.31</td>\n      <td>1.33</td>\n      <td>28,706,667</td>\n      <td>879181680</td>\n    </tr>\n    <tr>\n      <th>...</th>\n      <td>...</td>\n      <td>...</td>\n      <td>...</td>\n      <td>...</td>\n      <td>...</td>\n      <td>...</td>\n      <td>...</td>\n      <td>...</td>\n    </tr>\n    <tr>\n      <th>28939</th>\n      <td>bitcoin-sv</td>\n      <td>May 02, 2013</td>\n      <td>3.78</td>\n      <td>4.04</td>\n      <td>3.01</td>\n      <td>3.37</td>\n      <td>0</td>\n      <td>58287979</td>\n    </tr>\n    <tr>\n      <th>28940</th>\n      <td>bitcoin-sv</td>\n      <td>May 01, 2013</td>\n      <td>4.29</td>\n      <td>4.36</td>\n      <td>3.52</td>\n      <td>3.80</td>\n      <td>0</td>\n      <td>65604596</td>\n    </tr>\n    <tr>\n      <th>28941</th>\n      <td>bitcoin-sv</td>\n      <td>Apr 30, 2013</td>\n      <td>4.40</td>\n      <td>4.57</td>\n      <td>4.17</td>\n      <td>4.30</td>\n      <td>0</td>\n      <td>74020918</td>\n    </tr>\n    <tr>\n      <th>28942</th>\n      <td>bitcoin-sv</td>\n      <td>Apr 29, 2013</td>\n      <td>4.37</td>\n      <td>4.57</td>\n      <td>4.23</td>\n      <td>4.38</td>\n      <td>0</td>\n      <td>75388964</td>\n    </tr>\n    <tr>\n      <th>28943</th>\n      <td>bitcoin-sv</td>\n      <td>Apr 28, 2013</td>\n      <td>4.30</td>\n      <td>4.40</td>\n      <td>4.18</td>\n      <td>4.35</td>\n      <td>0</td>\n      <td>74636938</td>\n    </tr>\n  </tbody>\n</table>\n<p>28944 rows × 8 columns</p>\n</div>"
     },
     "metadata": {},
     "execution_count": 6
    }
   ],
   "source": [
    "# Removing the comma sign from a Market Cap Column!!!\n",
    "df['Market Cap'] = df['Market Cap'].str.replace(',','')\n",
    "df"
   ]
  },
  {
   "cell_type": "code",
   "execution_count": 7,
   "metadata": {},
   "outputs": [
    {
     "output_type": "execute_result",
     "data": {
      "text/plain": [
       "         Currency          Date  Open  High   Low Close      Volume  \\\n",
       "0           tezos  Dec 04, 2019  1.29  1.32  1.25  1.25  46,048,752   \n",
       "1           tezos  Dec 03, 2019  1.24  1.32  1.21  1.29  41,462,224   \n",
       "2           tezos  Dec 02, 2019  1.25  1.26  1.20  1.24  27,574,097   \n",
       "3           tezos  Dec 01, 2019  1.33  1.34  1.25  1.25  24,127,567   \n",
       "4           tezos  Nov 30, 2019  1.31  1.37  1.31  1.33  28,706,667   \n",
       "...           ...           ...   ...   ...   ...   ...         ...   \n",
       "28939  bitcoin-sv  May 02, 2013  3.78  4.04  3.01  3.37           0   \n",
       "28940  bitcoin-sv  May 01, 2013  4.29  4.36  3.52  3.80           0   \n",
       "28941  bitcoin-sv  Apr 30, 2013  4.40  4.57  4.17  4.30           0   \n",
       "28942  bitcoin-sv  Apr 29, 2013  4.37  4.57  4.23  4.38           0   \n",
       "28943  bitcoin-sv  Apr 28, 2013  4.30  4.40  4.18  4.35           0   \n",
       "\n",
       "       Market Cap  \n",
       "0       824588509  \n",
       "1       853213342  \n",
       "2       817872179  \n",
       "3       828296390  \n",
       "4       879181680  \n",
       "...           ...  \n",
       "28939    58287979  \n",
       "28940    65604596  \n",
       "28941    74020918  \n",
       "28942    75388964  \n",
       "28943    74636938  \n",
       "\n",
       "[28944 rows x 8 columns]"
      ],
      "text/html": "<div>\n<style scoped>\n    .dataframe tbody tr th:only-of-type {\n        vertical-align: middle;\n    }\n\n    .dataframe tbody tr th {\n        vertical-align: top;\n    }\n\n    .dataframe thead th {\n        text-align: right;\n    }\n</style>\n<table border=\"1\" class=\"dataframe\">\n  <thead>\n    <tr style=\"text-align: right;\">\n      <th></th>\n      <th>Currency</th>\n      <th>Date</th>\n      <th>Open</th>\n      <th>High</th>\n      <th>Low</th>\n      <th>Close</th>\n      <th>Volume</th>\n      <th>Market Cap</th>\n    </tr>\n  </thead>\n  <tbody>\n    <tr>\n      <th>0</th>\n      <td>tezos</td>\n      <td>Dec 04, 2019</td>\n      <td>1.29</td>\n      <td>1.32</td>\n      <td>1.25</td>\n      <td>1.25</td>\n      <td>46,048,752</td>\n      <td>824588509</td>\n    </tr>\n    <tr>\n      <th>1</th>\n      <td>tezos</td>\n      <td>Dec 03, 2019</td>\n      <td>1.24</td>\n      <td>1.32</td>\n      <td>1.21</td>\n      <td>1.29</td>\n      <td>41,462,224</td>\n      <td>853213342</td>\n    </tr>\n    <tr>\n      <th>2</th>\n      <td>tezos</td>\n      <td>Dec 02, 2019</td>\n      <td>1.25</td>\n      <td>1.26</td>\n      <td>1.20</td>\n      <td>1.24</td>\n      <td>27,574,097</td>\n      <td>817872179</td>\n    </tr>\n    <tr>\n      <th>3</th>\n      <td>tezos</td>\n      <td>Dec 01, 2019</td>\n      <td>1.33</td>\n      <td>1.34</td>\n      <td>1.25</td>\n      <td>1.25</td>\n      <td>24,127,567</td>\n      <td>828296390</td>\n    </tr>\n    <tr>\n      <th>4</th>\n      <td>tezos</td>\n      <td>Nov 30, 2019</td>\n      <td>1.31</td>\n      <td>1.37</td>\n      <td>1.31</td>\n      <td>1.33</td>\n      <td>28,706,667</td>\n      <td>879181680</td>\n    </tr>\n    <tr>\n      <th>...</th>\n      <td>...</td>\n      <td>...</td>\n      <td>...</td>\n      <td>...</td>\n      <td>...</td>\n      <td>...</td>\n      <td>...</td>\n      <td>...</td>\n    </tr>\n    <tr>\n      <th>28939</th>\n      <td>bitcoin-sv</td>\n      <td>May 02, 2013</td>\n      <td>3.78</td>\n      <td>4.04</td>\n      <td>3.01</td>\n      <td>3.37</td>\n      <td>0</td>\n      <td>58287979</td>\n    </tr>\n    <tr>\n      <th>28940</th>\n      <td>bitcoin-sv</td>\n      <td>May 01, 2013</td>\n      <td>4.29</td>\n      <td>4.36</td>\n      <td>3.52</td>\n      <td>3.80</td>\n      <td>0</td>\n      <td>65604596</td>\n    </tr>\n    <tr>\n      <th>28941</th>\n      <td>bitcoin-sv</td>\n      <td>Apr 30, 2013</td>\n      <td>4.40</td>\n      <td>4.57</td>\n      <td>4.17</td>\n      <td>4.30</td>\n      <td>0</td>\n      <td>74020918</td>\n    </tr>\n    <tr>\n      <th>28942</th>\n      <td>bitcoin-sv</td>\n      <td>Apr 29, 2013</td>\n      <td>4.37</td>\n      <td>4.57</td>\n      <td>4.23</td>\n      <td>4.38</td>\n      <td>0</td>\n      <td>75388964</td>\n    </tr>\n    <tr>\n      <th>28943</th>\n      <td>bitcoin-sv</td>\n      <td>Apr 28, 2013</td>\n      <td>4.30</td>\n      <td>4.40</td>\n      <td>4.18</td>\n      <td>4.35</td>\n      <td>0</td>\n      <td>74636938</td>\n    </tr>\n  </tbody>\n</table>\n<p>28944 rows × 8 columns</p>\n</div>"
     },
     "metadata": {},
     "execution_count": 7
    }
   ],
   "source": [
    "# Converting its data type to int\n",
    "df['Market Cap'] = df['Market Cap'].astype('int64')\n",
    "df"
   ]
  },
  {
   "cell_type": "code",
   "execution_count": 8,
   "metadata": {},
   "outputs": [
    {
     "output_type": "execute_result",
     "data": {
      "text/plain": [
       "Currency      object\n",
       "Date          object\n",
       "Open          object\n",
       "High          object\n",
       "Low           object\n",
       "Close         object\n",
       "Volume        object\n",
       "Market Cap     int64\n",
       "dtype: object"
      ]
     },
     "metadata": {},
     "execution_count": 8
    }
   ],
   "source": [
    "df.dtypes"
   ]
  },
  {
   "source": [
    "# 4. Calculate for nnlf using beta, norm , expon, gamma, uniform distributions"
   ],
   "cell_type": "markdown",
   "metadata": {}
  },
  {
   "cell_type": "code",
   "execution_count": 9,
   "metadata": {},
   "outputs": [
    {
     "output_type": "stream",
     "name": "stdout",
     "text": [
      "beta fit =  (0.49151017209289893, 395.5859179735023, -1.5731861743900667e-16, 1158403630187.1653) \n",
      " nnlf for beta distribution =  685195.1758235123\n",
      "\n",
      "\n",
      "normal fit =  (7194826309.602543, 24692797165.11664) \n",
      " nnlf for normal distribution =  685195.1758235123\n",
      "\n",
      "\n",
      "exponential fit =  (0.0, 7194826309.602543) \n",
      " nnlf for exponential distribution =  685875.2018903042\n",
      "\n",
      "\n",
      "gamma fit =  (0.17963813237668522, -7.177887576108436e-21, 89369168333.30505) \n",
      " nnlf for gamma distribution =  636483.7835747075\n",
      "\n",
      "\n",
      "uniform fit =  (0.0, 326502485530.0) \n",
      " nnlf for uniform distribution =  767354.7431599098\n"
     ]
    }
   ],
   "source": [
    "data = df['Market Cap']\n",
    "\n",
    "# nnlf for beta distribution!\n",
    "bfit = beta.fit(data)\n",
    "bnnlf = beta.nnlf(bfit, data)\n",
    "print(\"beta fit = \",bfit,\"\\n nnlf for beta distribution = \",bnnlf)\n",
    "\n",
    "# nnlf for normal distribution!\n",
    "nfit = norm.fit(data)\n",
    "normal_nnlf = beta.nnlf(bfit, data)\n",
    "print(\"\\n\\nnormal fit = \",nfit,\"\\n nnlf for normal distribution = \",normal_nnlf)\n",
    "\n",
    "# nnlf for exponentional distribution!\n",
    "efit = expon.fit(data)\n",
    "ennlf = expon.nnlf(efit,data)\n",
    "print(\"\\n\\nexponential fit = \",efit,\"\\n nnlf for exponential distribution = \",ennlf)\n",
    "\n",
    "# nnlf for gamma distribution!\n",
    "gfit = gamma.fit(data)\n",
    "gnnlf = gamma.nnlf(gfit,data)\n",
    "print(\"\\n\\ngamma fit = \",gfit,\"\\n nnlf for gamma distribution = \",gnnlf)\n",
    "\n",
    "# nnlf for uniform Distribution!\n",
    "ufit = uniform.fit(data)\n",
    "unnlf = uniform.nnlf(ufit,data)\n",
    "print(\"\\n\\nuniform fit = \",ufit,\"\\n nnlf for uniform distribution = \",unnlf)"
   ]
  },
  {
   "source": [
    "# 5. Plot the bar plot for showing distributions and nnlf"
   ],
   "cell_type": "markdown",
   "metadata": {}
  },
  {
   "cell_type": "code",
   "execution_count": 10,
   "metadata": {},
   "outputs": [
    {
     "output_type": "execute_result",
     "data": {
      "text/plain": [
       "<BarContainer object of 5 artists>"
      ]
     },
     "metadata": {},
     "execution_count": 10
    },
    {
     "output_type": "display_data",
     "data": {
      "text/plain": "<Figure size 432x288 with 1 Axes>",
      "image/svg+xml": "<?xml version=\"1.0\" encoding=\"utf-8\" standalone=\"no\"?>\r\n<!DOCTYPE svg PUBLIC \"-//W3C//DTD SVG 1.1//EN\"\r\n  \"http://www.w3.org/Graphics/SVG/1.1/DTD/svg11.dtd\">\r\n<!-- Created with matplotlib (https://matplotlib.org/) -->\r\n<svg height=\"250.77302pt\" version=\"1.1\" viewBox=\"0 0 394.375 250.77302\" width=\"394.375pt\" xmlns=\"http://www.w3.org/2000/svg\" xmlns:xlink=\"http://www.w3.org/1999/xlink\">\r\n <defs>\r\n  <style type=\"text/css\">\r\n*{stroke-linecap:butt;stroke-linejoin:round;}\r\n  </style>\r\n </defs>\r\n <g id=\"figure_1\">\r\n  <g id=\"patch_1\">\r\n   <path d=\"M 0 250.77302 \r\nL 394.375 250.77302 \r\nL 394.375 0 \r\nL 0 0 \r\nz\r\n\" style=\"fill:none;\"/>\r\n  </g>\r\n  <g id=\"axes_1\">\r\n   <g id=\"patch_2\">\r\n    <path d=\"M 52.375 226.894895 \r\nL 387.175 226.894895 \r\nL 387.175 9.454895 \r\nL 52.375 9.454895 \r\nz\r\n\" style=\"fill:#ffffff;\"/>\r\n   </g>\r\n   <g id=\"patch_3\">\r\n    <path clip-path=\"url(#pdd84c018d4)\" d=\"M 67.593182 226.894895 \r\nL 118.320455 226.894895 \r\nL 118.320455 41.98155 \r\nL 67.593182 41.98155 \r\nz\r\n\" style=\"fill:#1f77b4;\"/>\r\n   </g>\r\n   <g id=\"patch_4\">\r\n    <path clip-path=\"url(#pdd84c018d4)\" d=\"M 131.002273 226.894895 \r\nL 181.729545 226.894895 \r\nL 181.729545 41.98155 \r\nL 131.002273 41.98155 \r\nz\r\n\" style=\"fill:#1f77b4;\"/>\r\n   </g>\r\n   <g id=\"patch_5\">\r\n    <path clip-path=\"url(#pdd84c018d4)\" d=\"M 194.411364 226.894895 \r\nL 245.138636 226.894895 \r\nL 245.138636 41.798032 \r\nL 194.411364 41.798032 \r\nz\r\n\" style=\"fill:#1f77b4;\"/>\r\n   </g>\r\n   <g id=\"patch_6\">\r\n    <path clip-path=\"url(#pdd84c018d4)\" d=\"M 257.820455 226.894895 \r\nL 308.547727 226.894895 \r\nL 308.547727 55.127274 \r\nL 257.820455 55.127274 \r\nz\r\n\" style=\"fill:#1f77b4;\"/>\r\n   </g>\r\n   <g id=\"patch_7\">\r\n    <path clip-path=\"url(#pdd84c018d4)\" d=\"M 321.229545 226.894895 \r\nL 371.956818 226.894895 \r\nL 371.956818 19.809181 \r\nL 321.229545 19.809181 \r\nz\r\n\" style=\"fill:#1f77b4;\"/>\r\n   </g>\r\n   <g id=\"matplotlib.axis_1\">\r\n    <g id=\"xtick_1\">\r\n     <g id=\"line2d_1\">\r\n      <defs>\r\n       <path d=\"M 0 0 \r\nL 0 3.5 \r\n\" id=\"m021ac5aabe\" style=\"stroke:#000000;stroke-width:0.8;\"/>\r\n      </defs>\r\n      <g>\r\n       <use style=\"stroke:#000000;stroke-width:0.8;\" x=\"92.956818\" xlink:href=\"#m021ac5aabe\" y=\"226.894895\"/>\r\n      </g>\r\n     </g>\r\n     <g id=\"text_1\">\r\n      <!-- Beta -->\r\n      <defs>\r\n       <path d=\"M 19.671875 34.8125 \r\nL 19.671875 8.109375 \r\nL 35.5 8.109375 \r\nQ 43.453125 8.109375 47.28125 11.40625 \r\nQ 51.125 14.703125 51.125 21.484375 \r\nQ 51.125 28.328125 47.28125 31.5625 \r\nQ 43.453125 34.8125 35.5 34.8125 \r\nz\r\nM 19.671875 64.796875 \r\nL 19.671875 42.828125 \r\nL 34.28125 42.828125 \r\nQ 41.5 42.828125 45.03125 45.53125 \r\nQ 48.578125 48.25 48.578125 53.8125 \r\nQ 48.578125 59.328125 45.03125 62.0625 \r\nQ 41.5 64.796875 34.28125 64.796875 \r\nz\r\nM 9.8125 72.90625 \r\nL 35.015625 72.90625 \r\nQ 46.296875 72.90625 52.390625 68.21875 \r\nQ 58.5 63.53125 58.5 54.890625 \r\nQ 58.5 48.1875 55.375 44.234375 \r\nQ 52.25 40.28125 46.1875 39.3125 \r\nQ 53.46875 37.75 57.5 32.78125 \r\nQ 61.53125 27.828125 61.53125 20.40625 \r\nQ 61.53125 10.640625 54.890625 5.3125 \r\nQ 48.25 0 35.984375 0 \r\nL 9.8125 0 \r\nz\r\n\" id=\"DejaVuSans-66\"/>\r\n       <path d=\"M 56.203125 29.59375 \r\nL 56.203125 25.203125 \r\nL 14.890625 25.203125 \r\nQ 15.484375 15.921875 20.484375 11.0625 \r\nQ 25.484375 6.203125 34.421875 6.203125 \r\nQ 39.59375 6.203125 44.453125 7.46875 \r\nQ 49.3125 8.734375 54.109375 11.28125 \r\nL 54.109375 2.78125 \r\nQ 49.265625 0.734375 44.1875 -0.34375 \r\nQ 39.109375 -1.421875 33.890625 -1.421875 \r\nQ 20.796875 -1.421875 13.15625 6.1875 \r\nQ 5.515625 13.8125 5.515625 26.8125 \r\nQ 5.515625 40.234375 12.765625 48.109375 \r\nQ 20.015625 56 32.328125 56 \r\nQ 43.359375 56 49.78125 48.890625 \r\nQ 56.203125 41.796875 56.203125 29.59375 \r\nz\r\nM 47.21875 32.234375 \r\nQ 47.125 39.59375 43.09375 43.984375 \r\nQ 39.0625 48.390625 32.421875 48.390625 \r\nQ 24.90625 48.390625 20.390625 44.140625 \r\nQ 15.875 39.890625 15.1875 32.171875 \r\nz\r\n\" id=\"DejaVuSans-101\"/>\r\n       <path d=\"M 18.3125 70.21875 \r\nL 18.3125 54.6875 \r\nL 36.8125 54.6875 \r\nL 36.8125 47.703125 \r\nL 18.3125 47.703125 \r\nL 18.3125 18.015625 \r\nQ 18.3125 11.328125 20.140625 9.421875 \r\nQ 21.96875 7.515625 27.59375 7.515625 \r\nL 36.8125 7.515625 \r\nL 36.8125 0 \r\nL 27.59375 0 \r\nQ 17.1875 0 13.234375 3.875 \r\nQ 9.28125 7.765625 9.28125 18.015625 \r\nL 9.28125 47.703125 \r\nL 2.6875 47.703125 \r\nL 2.6875 54.6875 \r\nL 9.28125 54.6875 \r\nL 9.28125 70.21875 \r\nz\r\n\" id=\"DejaVuSans-116\"/>\r\n       <path d=\"M 34.28125 27.484375 \r\nQ 23.390625 27.484375 19.1875 25 \r\nQ 14.984375 22.515625 14.984375 16.5 \r\nQ 14.984375 11.71875 18.140625 8.90625 \r\nQ 21.296875 6.109375 26.703125 6.109375 \r\nQ 34.1875 6.109375 38.703125 11.40625 \r\nQ 43.21875 16.703125 43.21875 25.484375 \r\nL 43.21875 27.484375 \r\nz\r\nM 52.203125 31.203125 \r\nL 52.203125 0 \r\nL 43.21875 0 \r\nL 43.21875 8.296875 \r\nQ 40.140625 3.328125 35.546875 0.953125 \r\nQ 30.953125 -1.421875 24.3125 -1.421875 \r\nQ 15.921875 -1.421875 10.953125 3.296875 \r\nQ 6 8.015625 6 15.921875 \r\nQ 6 25.140625 12.171875 29.828125 \r\nQ 18.359375 34.515625 30.609375 34.515625 \r\nL 43.21875 34.515625 \r\nL 43.21875 35.40625 \r\nQ 43.21875 41.609375 39.140625 45 \r\nQ 35.0625 48.390625 27.6875 48.390625 \r\nQ 23 48.390625 18.546875 47.265625 \r\nQ 14.109375 46.140625 10.015625 43.890625 \r\nL 10.015625 52.203125 \r\nQ 14.9375 54.109375 19.578125 55.046875 \r\nQ 24.21875 56 28.609375 56 \r\nQ 40.484375 56 46.34375 49.84375 \r\nQ 52.203125 43.703125 52.203125 31.203125 \r\nz\r\n\" id=\"DejaVuSans-97\"/>\r\n      </defs>\r\n      <g transform=\"translate(81.425568 241.493333)scale(0.1 -0.1)\">\r\n       <use xlink:href=\"#DejaVuSans-66\"/>\r\n       <use x=\"68.603516\" xlink:href=\"#DejaVuSans-101\"/>\r\n       <use x=\"130.126953\" xlink:href=\"#DejaVuSans-116\"/>\r\n       <use x=\"169.335938\" xlink:href=\"#DejaVuSans-97\"/>\r\n      </g>\r\n     </g>\r\n    </g>\r\n    <g id=\"xtick_2\">\r\n     <g id=\"line2d_2\">\r\n      <g>\r\n       <use style=\"stroke:#000000;stroke-width:0.8;\" x=\"156.365909\" xlink:href=\"#m021ac5aabe\" y=\"226.894895\"/>\r\n      </g>\r\n     </g>\r\n     <g id=\"text_2\">\r\n      <!-- Normal -->\r\n      <defs>\r\n       <path d=\"M 9.8125 72.90625 \r\nL 23.09375 72.90625 \r\nL 55.421875 11.921875 \r\nL 55.421875 72.90625 \r\nL 64.984375 72.90625 \r\nL 64.984375 0 \r\nL 51.703125 0 \r\nL 19.390625 60.984375 \r\nL 19.390625 0 \r\nL 9.8125 0 \r\nz\r\n\" id=\"DejaVuSans-78\"/>\r\n       <path d=\"M 30.609375 48.390625 \r\nQ 23.390625 48.390625 19.1875 42.75 \r\nQ 14.984375 37.109375 14.984375 27.296875 \r\nQ 14.984375 17.484375 19.15625 11.84375 \r\nQ 23.34375 6.203125 30.609375 6.203125 \r\nQ 37.796875 6.203125 41.984375 11.859375 \r\nQ 46.1875 17.53125 46.1875 27.296875 \r\nQ 46.1875 37.015625 41.984375 42.703125 \r\nQ 37.796875 48.390625 30.609375 48.390625 \r\nz\r\nM 30.609375 56 \r\nQ 42.328125 56 49.015625 48.375 \r\nQ 55.71875 40.765625 55.71875 27.296875 \r\nQ 55.71875 13.875 49.015625 6.21875 \r\nQ 42.328125 -1.421875 30.609375 -1.421875 \r\nQ 18.84375 -1.421875 12.171875 6.21875 \r\nQ 5.515625 13.875 5.515625 27.296875 \r\nQ 5.515625 40.765625 12.171875 48.375 \r\nQ 18.84375 56 30.609375 56 \r\nz\r\n\" id=\"DejaVuSans-111\"/>\r\n       <path d=\"M 41.109375 46.296875 \r\nQ 39.59375 47.171875 37.8125 47.578125 \r\nQ 36.03125 48 33.890625 48 \r\nQ 26.265625 48 22.1875 43.046875 \r\nQ 18.109375 38.09375 18.109375 28.8125 \r\nL 18.109375 0 \r\nL 9.078125 0 \r\nL 9.078125 54.6875 \r\nL 18.109375 54.6875 \r\nL 18.109375 46.1875 \r\nQ 20.953125 51.171875 25.484375 53.578125 \r\nQ 30.03125 56 36.53125 56 \r\nQ 37.453125 56 38.578125 55.875 \r\nQ 39.703125 55.765625 41.0625 55.515625 \r\nz\r\n\" id=\"DejaVuSans-114\"/>\r\n       <path d=\"M 52 44.1875 \r\nQ 55.375 50.25 60.0625 53.125 \r\nQ 64.75 56 71.09375 56 \r\nQ 79.640625 56 84.28125 50.015625 \r\nQ 88.921875 44.046875 88.921875 33.015625 \r\nL 88.921875 0 \r\nL 79.890625 0 \r\nL 79.890625 32.71875 \r\nQ 79.890625 40.578125 77.09375 44.375 \r\nQ 74.3125 48.1875 68.609375 48.1875 \r\nQ 61.625 48.1875 57.5625 43.546875 \r\nQ 53.515625 38.921875 53.515625 30.90625 \r\nL 53.515625 0 \r\nL 44.484375 0 \r\nL 44.484375 32.71875 \r\nQ 44.484375 40.625 41.703125 44.40625 \r\nQ 38.921875 48.1875 33.109375 48.1875 \r\nQ 26.21875 48.1875 22.15625 43.53125 \r\nQ 18.109375 38.875 18.109375 30.90625 \r\nL 18.109375 0 \r\nL 9.078125 0 \r\nL 9.078125 54.6875 \r\nL 18.109375 54.6875 \r\nL 18.109375 46.1875 \r\nQ 21.1875 51.21875 25.484375 53.609375 \r\nQ 29.78125 56 35.6875 56 \r\nQ 41.65625 56 45.828125 52.96875 \r\nQ 50 49.953125 52 44.1875 \r\nz\r\n\" id=\"DejaVuSans-109\"/>\r\n       <path d=\"M 9.421875 75.984375 \r\nL 18.40625 75.984375 \r\nL 18.40625 0 \r\nL 9.421875 0 \r\nz\r\n\" id=\"DejaVuSans-108\"/>\r\n      </defs>\r\n      <g transform=\"translate(138.187784 241.493333)scale(0.1 -0.1)\">\r\n       <use xlink:href=\"#DejaVuSans-78\"/>\r\n       <use x=\"74.804688\" xlink:href=\"#DejaVuSans-111\"/>\r\n       <use x=\"135.986328\" xlink:href=\"#DejaVuSans-114\"/>\r\n       <use x=\"177.083984\" xlink:href=\"#DejaVuSans-109\"/>\r\n       <use x=\"274.496094\" xlink:href=\"#DejaVuSans-97\"/>\r\n       <use x=\"335.775391\" xlink:href=\"#DejaVuSans-108\"/>\r\n      </g>\r\n     </g>\r\n    </g>\r\n    <g id=\"xtick_3\">\r\n     <g id=\"line2d_3\">\r\n      <g>\r\n       <use style=\"stroke:#000000;stroke-width:0.8;\" x=\"219.775\" xlink:href=\"#m021ac5aabe\" y=\"226.894895\"/>\r\n      </g>\r\n     </g>\r\n     <g id=\"text_3\">\r\n      <!-- Exponential -->\r\n      <defs>\r\n       <path d=\"M 9.8125 72.90625 \r\nL 55.90625 72.90625 \r\nL 55.90625 64.59375 \r\nL 19.671875 64.59375 \r\nL 19.671875 43.015625 \r\nL 54.390625 43.015625 \r\nL 54.390625 34.71875 \r\nL 19.671875 34.71875 \r\nL 19.671875 8.296875 \r\nL 56.78125 8.296875 \r\nL 56.78125 0 \r\nL 9.8125 0 \r\nz\r\n\" id=\"DejaVuSans-69\"/>\r\n       <path d=\"M 54.890625 54.6875 \r\nL 35.109375 28.078125 \r\nL 55.90625 0 \r\nL 45.3125 0 \r\nL 29.390625 21.484375 \r\nL 13.484375 0 \r\nL 2.875 0 \r\nL 24.125 28.609375 \r\nL 4.6875 54.6875 \r\nL 15.28125 54.6875 \r\nL 29.78125 35.203125 \r\nL 44.28125 54.6875 \r\nz\r\n\" id=\"DejaVuSans-120\"/>\r\n       <path d=\"M 18.109375 8.203125 \r\nL 18.109375 -20.796875 \r\nL 9.078125 -20.796875 \r\nL 9.078125 54.6875 \r\nL 18.109375 54.6875 \r\nL 18.109375 46.390625 \r\nQ 20.953125 51.265625 25.265625 53.625 \r\nQ 29.59375 56 35.59375 56 \r\nQ 45.5625 56 51.78125 48.09375 \r\nQ 58.015625 40.1875 58.015625 27.296875 \r\nQ 58.015625 14.40625 51.78125 6.484375 \r\nQ 45.5625 -1.421875 35.59375 -1.421875 \r\nQ 29.59375 -1.421875 25.265625 0.953125 \r\nQ 20.953125 3.328125 18.109375 8.203125 \r\nz\r\nM 48.6875 27.296875 \r\nQ 48.6875 37.203125 44.609375 42.84375 \r\nQ 40.53125 48.484375 33.40625 48.484375 \r\nQ 26.265625 48.484375 22.1875 42.84375 \r\nQ 18.109375 37.203125 18.109375 27.296875 \r\nQ 18.109375 17.390625 22.1875 11.75 \r\nQ 26.265625 6.109375 33.40625 6.109375 \r\nQ 40.53125 6.109375 44.609375 11.75 \r\nQ 48.6875 17.390625 48.6875 27.296875 \r\nz\r\n\" id=\"DejaVuSans-112\"/>\r\n       <path d=\"M 54.890625 33.015625 \r\nL 54.890625 0 \r\nL 45.90625 0 \r\nL 45.90625 32.71875 \r\nQ 45.90625 40.484375 42.875 44.328125 \r\nQ 39.84375 48.1875 33.796875 48.1875 \r\nQ 26.515625 48.1875 22.3125 43.546875 \r\nQ 18.109375 38.921875 18.109375 30.90625 \r\nL 18.109375 0 \r\nL 9.078125 0 \r\nL 9.078125 54.6875 \r\nL 18.109375 54.6875 \r\nL 18.109375 46.1875 \r\nQ 21.34375 51.125 25.703125 53.5625 \r\nQ 30.078125 56 35.796875 56 \r\nQ 45.21875 56 50.046875 50.171875 \r\nQ 54.890625 44.34375 54.890625 33.015625 \r\nz\r\n\" id=\"DejaVuSans-110\"/>\r\n       <path d=\"M 9.421875 54.6875 \r\nL 18.40625 54.6875 \r\nL 18.40625 0 \r\nL 9.421875 0 \r\nz\r\nM 9.421875 75.984375 \r\nL 18.40625 75.984375 \r\nL 18.40625 64.59375 \r\nL 9.421875 64.59375 \r\nz\r\n\" id=\"DejaVuSans-105\"/>\r\n      </defs>\r\n      <g transform=\"translate(190.20625 241.493333)scale(0.1 -0.1)\">\r\n       <use xlink:href=\"#DejaVuSans-69\"/>\r\n       <use x=\"63.183594\" xlink:href=\"#DejaVuSans-120\"/>\r\n       <use x=\"122.363281\" xlink:href=\"#DejaVuSans-112\"/>\r\n       <use x=\"185.839844\" xlink:href=\"#DejaVuSans-111\"/>\r\n       <use x=\"247.021484\" xlink:href=\"#DejaVuSans-110\"/>\r\n       <use x=\"310.400391\" xlink:href=\"#DejaVuSans-101\"/>\r\n       <use x=\"371.923828\" xlink:href=\"#DejaVuSans-110\"/>\r\n       <use x=\"435.302734\" xlink:href=\"#DejaVuSans-116\"/>\r\n       <use x=\"474.511719\" xlink:href=\"#DejaVuSans-105\"/>\r\n       <use x=\"502.294922\" xlink:href=\"#DejaVuSans-97\"/>\r\n       <use x=\"563.574219\" xlink:href=\"#DejaVuSans-108\"/>\r\n      </g>\r\n     </g>\r\n    </g>\r\n    <g id=\"xtick_4\">\r\n     <g id=\"line2d_4\">\r\n      <g>\r\n       <use style=\"stroke:#000000;stroke-width:0.8;\" x=\"283.184091\" xlink:href=\"#m021ac5aabe\" y=\"226.894895\"/>\r\n      </g>\r\n     </g>\r\n     <g id=\"text_4\">\r\n      <!-- Gamma -->\r\n      <defs>\r\n       <path d=\"M 59.515625 10.40625 \r\nL 59.515625 29.984375 \r\nL 43.40625 29.984375 \r\nL 43.40625 38.09375 \r\nL 69.28125 38.09375 \r\nL 69.28125 6.78125 \r\nQ 63.578125 2.734375 56.6875 0.65625 \r\nQ 49.8125 -1.421875 42 -1.421875 \r\nQ 24.90625 -1.421875 15.25 8.5625 \r\nQ 5.609375 18.5625 5.609375 36.375 \r\nQ 5.609375 54.25 15.25 64.234375 \r\nQ 24.90625 74.21875 42 74.21875 \r\nQ 49.125 74.21875 55.546875 72.453125 \r\nQ 61.96875 70.703125 67.390625 67.28125 \r\nL 67.390625 56.78125 \r\nQ 61.921875 61.421875 55.765625 63.765625 \r\nQ 49.609375 66.109375 42.828125 66.109375 \r\nQ 29.4375 66.109375 22.71875 58.640625 \r\nQ 16.015625 51.171875 16.015625 36.375 \r\nQ 16.015625 21.625 22.71875 14.15625 \r\nQ 29.4375 6.6875 42.828125 6.6875 \r\nQ 48.046875 6.6875 52.140625 7.59375 \r\nQ 56.25 8.5 59.515625 10.40625 \r\nz\r\n\" id=\"DejaVuSans-71\"/>\r\n      </defs>\r\n      <g transform=\"translate(263.441122 241.493333)scale(0.1 -0.1)\">\r\n       <use xlink:href=\"#DejaVuSans-71\"/>\r\n       <use x=\"77.490234\" xlink:href=\"#DejaVuSans-97\"/>\r\n       <use x=\"138.769531\" xlink:href=\"#DejaVuSans-109\"/>\r\n       <use x=\"236.181641\" xlink:href=\"#DejaVuSans-109\"/>\r\n       <use x=\"333.59375\" xlink:href=\"#DejaVuSans-97\"/>\r\n      </g>\r\n     </g>\r\n    </g>\r\n    <g id=\"xtick_5\">\r\n     <g id=\"line2d_5\">\r\n      <g>\r\n       <use style=\"stroke:#000000;stroke-width:0.8;\" x=\"346.593182\" xlink:href=\"#m021ac5aabe\" y=\"226.894895\"/>\r\n      </g>\r\n     </g>\r\n     <g id=\"text_5\">\r\n      <!-- Uniform -->\r\n      <defs>\r\n       <path d=\"M 8.6875 72.90625 \r\nL 18.609375 72.90625 \r\nL 18.609375 28.609375 \r\nQ 18.609375 16.890625 22.84375 11.734375 \r\nQ 27.09375 6.59375 36.625 6.59375 \r\nQ 46.09375 6.59375 50.34375 11.734375 \r\nQ 54.59375 16.890625 54.59375 28.609375 \r\nL 54.59375 72.90625 \r\nL 64.5 72.90625 \r\nL 64.5 27.390625 \r\nQ 64.5 13.140625 57.4375 5.859375 \r\nQ 50.390625 -1.421875 36.625 -1.421875 \r\nQ 22.796875 -1.421875 15.734375 5.859375 \r\nQ 8.6875 13.140625 8.6875 27.390625 \r\nz\r\n\" id=\"DejaVuSans-85\"/>\r\n       <path d=\"M 37.109375 75.984375 \r\nL 37.109375 68.5 \r\nL 28.515625 68.5 \r\nQ 23.6875 68.5 21.796875 66.546875 \r\nQ 19.921875 64.59375 19.921875 59.515625 \r\nL 19.921875 54.6875 \r\nL 34.71875 54.6875 \r\nL 34.71875 47.703125 \r\nL 19.921875 47.703125 \r\nL 19.921875 0 \r\nL 10.890625 0 \r\nL 10.890625 47.703125 \r\nL 2.296875 47.703125 \r\nL 2.296875 54.6875 \r\nL 10.890625 54.6875 \r\nL 10.890625 58.5 \r\nQ 10.890625 67.625 15.140625 71.796875 \r\nQ 19.390625 75.984375 28.609375 75.984375 \r\nz\r\n\" id=\"DejaVuSans-102\"/>\r\n      </defs>\r\n      <g transform=\"translate(326.631463 241.493333)scale(0.1 -0.1)\">\r\n       <use xlink:href=\"#DejaVuSans-85\"/>\r\n       <use x=\"73.193359\" xlink:href=\"#DejaVuSans-110\"/>\r\n       <use x=\"136.572266\" xlink:href=\"#DejaVuSans-105\"/>\r\n       <use x=\"164.355469\" xlink:href=\"#DejaVuSans-102\"/>\r\n       <use x=\"199.560547\" xlink:href=\"#DejaVuSans-111\"/>\r\n       <use x=\"260.742188\" xlink:href=\"#DejaVuSans-114\"/>\r\n       <use x=\"301.839844\" xlink:href=\"#DejaVuSans-109\"/>\r\n      </g>\r\n     </g>\r\n    </g>\r\n   </g>\r\n   <g id=\"matplotlib.axis_2\">\r\n    <g id=\"ytick_1\">\r\n     <g id=\"line2d_6\">\r\n      <defs>\r\n       <path d=\"M 0 0 \r\nL -3.5 0 \r\n\" id=\"m71dec95709\" style=\"stroke:#000000;stroke-width:0.8;\"/>\r\n      </defs>\r\n      <g>\r\n       <use style=\"stroke:#000000;stroke-width:0.8;\" x=\"52.375\" xlink:href=\"#m71dec95709\" y=\"226.894895\"/>\r\n      </g>\r\n     </g>\r\n     <g id=\"text_6\">\r\n      <!-- 0 -->\r\n      <defs>\r\n       <path d=\"M 31.78125 66.40625 \r\nQ 24.171875 66.40625 20.328125 58.90625 \r\nQ 16.5 51.421875 16.5 36.375 \r\nQ 16.5 21.390625 20.328125 13.890625 \r\nQ 24.171875 6.390625 31.78125 6.390625 \r\nQ 39.453125 6.390625 43.28125 13.890625 \r\nQ 47.125 21.390625 47.125 36.375 \r\nQ 47.125 51.421875 43.28125 58.90625 \r\nQ 39.453125 66.40625 31.78125 66.40625 \r\nz\r\nM 31.78125 74.21875 \r\nQ 44.046875 74.21875 50.515625 64.515625 \r\nQ 56.984375 54.828125 56.984375 36.375 \r\nQ 56.984375 17.96875 50.515625 8.265625 \r\nQ 44.046875 -1.421875 31.78125 -1.421875 \r\nQ 19.53125 -1.421875 13.0625 8.265625 \r\nQ 6.59375 17.96875 6.59375 36.375 \r\nQ 6.59375 54.828125 13.0625 64.515625 \r\nQ 19.53125 74.21875 31.78125 74.21875 \r\nz\r\n\" id=\"DejaVuSans-48\"/>\r\n      </defs>\r\n      <g transform=\"translate(39.0125 230.694114)scale(0.1 -0.1)\">\r\n       <use xlink:href=\"#DejaVuSans-48\"/>\r\n      </g>\r\n     </g>\r\n    </g>\r\n    <g id=\"ytick_2\">\r\n     <g id=\"line2d_7\">\r\n      <g>\r\n       <use style=\"stroke:#000000;stroke-width:0.8;\" x=\"52.375\" xlink:href=\"#m71dec95709\" y=\"199.907936\"/>\r\n      </g>\r\n     </g>\r\n     <g id=\"text_7\">\r\n      <!-- 100000 -->\r\n      <defs>\r\n       <path d=\"M 12.40625 8.296875 \r\nL 28.515625 8.296875 \r\nL 28.515625 63.921875 \r\nL 10.984375 60.40625 \r\nL 10.984375 69.390625 \r\nL 28.421875 72.90625 \r\nL 38.28125 72.90625 \r\nL 38.28125 8.296875 \r\nL 54.390625 8.296875 \r\nL 54.390625 0 \r\nL 12.40625 0 \r\nz\r\n\" id=\"DejaVuSans-49\"/>\r\n      </defs>\r\n      <g transform=\"translate(7.2 203.707154)scale(0.1 -0.1)\">\r\n       <use xlink:href=\"#DejaVuSans-49\"/>\r\n       <use x=\"63.623047\" xlink:href=\"#DejaVuSans-48\"/>\r\n       <use x=\"127.246094\" xlink:href=\"#DejaVuSans-48\"/>\r\n       <use x=\"190.869141\" xlink:href=\"#DejaVuSans-48\"/>\r\n       <use x=\"254.492188\" xlink:href=\"#DejaVuSans-48\"/>\r\n       <use x=\"318.115234\" xlink:href=\"#DejaVuSans-48\"/>\r\n      </g>\r\n     </g>\r\n    </g>\r\n    <g id=\"ytick_3\">\r\n     <g id=\"line2d_8\">\r\n      <g>\r\n       <use style=\"stroke:#000000;stroke-width:0.8;\" x=\"52.375\" xlink:href=\"#m71dec95709\" y=\"172.920976\"/>\r\n      </g>\r\n     </g>\r\n     <g id=\"text_8\">\r\n      <!-- 200000 -->\r\n      <defs>\r\n       <path d=\"M 19.1875 8.296875 \r\nL 53.609375 8.296875 \r\nL 53.609375 0 \r\nL 7.328125 0 \r\nL 7.328125 8.296875 \r\nQ 12.9375 14.109375 22.625 23.890625 \r\nQ 32.328125 33.6875 34.8125 36.53125 \r\nQ 39.546875 41.84375 41.421875 45.53125 \r\nQ 43.3125 49.21875 43.3125 52.78125 \r\nQ 43.3125 58.59375 39.234375 62.25 \r\nQ 35.15625 65.921875 28.609375 65.921875 \r\nQ 23.96875 65.921875 18.8125 64.3125 \r\nQ 13.671875 62.703125 7.8125 59.421875 \r\nL 7.8125 69.390625 \r\nQ 13.765625 71.78125 18.9375 73 \r\nQ 24.125 74.21875 28.421875 74.21875 \r\nQ 39.75 74.21875 46.484375 68.546875 \r\nQ 53.21875 62.890625 53.21875 53.421875 \r\nQ 53.21875 48.921875 51.53125 44.890625 \r\nQ 49.859375 40.875 45.40625 35.40625 \r\nQ 44.1875 33.984375 37.640625 27.21875 \r\nQ 31.109375 20.453125 19.1875 8.296875 \r\nz\r\n\" id=\"DejaVuSans-50\"/>\r\n      </defs>\r\n      <g transform=\"translate(7.2 176.720195)scale(0.1 -0.1)\">\r\n       <use xlink:href=\"#DejaVuSans-50\"/>\r\n       <use x=\"63.623047\" xlink:href=\"#DejaVuSans-48\"/>\r\n       <use x=\"127.246094\" xlink:href=\"#DejaVuSans-48\"/>\r\n       <use x=\"190.869141\" xlink:href=\"#DejaVuSans-48\"/>\r\n       <use x=\"254.492188\" xlink:href=\"#DejaVuSans-48\"/>\r\n       <use x=\"318.115234\" xlink:href=\"#DejaVuSans-48\"/>\r\n      </g>\r\n     </g>\r\n    </g>\r\n    <g id=\"ytick_4\">\r\n     <g id=\"line2d_9\">\r\n      <g>\r\n       <use style=\"stroke:#000000;stroke-width:0.8;\" x=\"52.375\" xlink:href=\"#m71dec95709\" y=\"145.934017\"/>\r\n      </g>\r\n     </g>\r\n     <g id=\"text_9\">\r\n      <!-- 300000 -->\r\n      <defs>\r\n       <path d=\"M 40.578125 39.3125 \r\nQ 47.65625 37.796875 51.625 33 \r\nQ 55.609375 28.21875 55.609375 21.1875 \r\nQ 55.609375 10.40625 48.1875 4.484375 \r\nQ 40.765625 -1.421875 27.09375 -1.421875 \r\nQ 22.515625 -1.421875 17.65625 -0.515625 \r\nQ 12.796875 0.390625 7.625 2.203125 \r\nL 7.625 11.71875 \r\nQ 11.71875 9.328125 16.59375 8.109375 \r\nQ 21.484375 6.890625 26.8125 6.890625 \r\nQ 36.078125 6.890625 40.9375 10.546875 \r\nQ 45.796875 14.203125 45.796875 21.1875 \r\nQ 45.796875 27.640625 41.28125 31.265625 \r\nQ 36.765625 34.90625 28.71875 34.90625 \r\nL 20.21875 34.90625 \r\nL 20.21875 43.015625 \r\nL 29.109375 43.015625 \r\nQ 36.375 43.015625 40.234375 45.921875 \r\nQ 44.09375 48.828125 44.09375 54.296875 \r\nQ 44.09375 59.90625 40.109375 62.90625 \r\nQ 36.140625 65.921875 28.71875 65.921875 \r\nQ 24.65625 65.921875 20.015625 65.03125 \r\nQ 15.375 64.15625 9.8125 62.3125 \r\nL 9.8125 71.09375 \r\nQ 15.4375 72.65625 20.34375 73.4375 \r\nQ 25.25 74.21875 29.59375 74.21875 \r\nQ 40.828125 74.21875 47.359375 69.109375 \r\nQ 53.90625 64.015625 53.90625 55.328125 \r\nQ 53.90625 49.265625 50.4375 45.09375 \r\nQ 46.96875 40.921875 40.578125 39.3125 \r\nz\r\n\" id=\"DejaVuSans-51\"/>\r\n      </defs>\r\n      <g transform=\"translate(7.2 149.733235)scale(0.1 -0.1)\">\r\n       <use xlink:href=\"#DejaVuSans-51\"/>\r\n       <use x=\"63.623047\" xlink:href=\"#DejaVuSans-48\"/>\r\n       <use x=\"127.246094\" xlink:href=\"#DejaVuSans-48\"/>\r\n       <use x=\"190.869141\" xlink:href=\"#DejaVuSans-48\"/>\r\n       <use x=\"254.492188\" xlink:href=\"#DejaVuSans-48\"/>\r\n       <use x=\"318.115234\" xlink:href=\"#DejaVuSans-48\"/>\r\n      </g>\r\n     </g>\r\n    </g>\r\n    <g id=\"ytick_5\">\r\n     <g id=\"line2d_10\">\r\n      <g>\r\n       <use style=\"stroke:#000000;stroke-width:0.8;\" x=\"52.375\" xlink:href=\"#m71dec95709\" y=\"118.947057\"/>\r\n      </g>\r\n     </g>\r\n     <g id=\"text_10\">\r\n      <!-- 400000 -->\r\n      <defs>\r\n       <path d=\"M 37.796875 64.3125 \r\nL 12.890625 25.390625 \r\nL 37.796875 25.390625 \r\nz\r\nM 35.203125 72.90625 \r\nL 47.609375 72.90625 \r\nL 47.609375 25.390625 \r\nL 58.015625 25.390625 \r\nL 58.015625 17.1875 \r\nL 47.609375 17.1875 \r\nL 47.609375 0 \r\nL 37.796875 0 \r\nL 37.796875 17.1875 \r\nL 4.890625 17.1875 \r\nL 4.890625 26.703125 \r\nz\r\n\" id=\"DejaVuSans-52\"/>\r\n      </defs>\r\n      <g transform=\"translate(7.2 122.746276)scale(0.1 -0.1)\">\r\n       <use xlink:href=\"#DejaVuSans-52\"/>\r\n       <use x=\"63.623047\" xlink:href=\"#DejaVuSans-48\"/>\r\n       <use x=\"127.246094\" xlink:href=\"#DejaVuSans-48\"/>\r\n       <use x=\"190.869141\" xlink:href=\"#DejaVuSans-48\"/>\r\n       <use x=\"254.492188\" xlink:href=\"#DejaVuSans-48\"/>\r\n       <use x=\"318.115234\" xlink:href=\"#DejaVuSans-48\"/>\r\n      </g>\r\n     </g>\r\n    </g>\r\n    <g id=\"ytick_6\">\r\n     <g id=\"line2d_11\">\r\n      <g>\r\n       <use style=\"stroke:#000000;stroke-width:0.8;\" x=\"52.375\" xlink:href=\"#m71dec95709\" y=\"91.960097\"/>\r\n      </g>\r\n     </g>\r\n     <g id=\"text_11\">\r\n      <!-- 500000 -->\r\n      <defs>\r\n       <path d=\"M 10.796875 72.90625 \r\nL 49.515625 72.90625 \r\nL 49.515625 64.59375 \r\nL 19.828125 64.59375 \r\nL 19.828125 46.734375 \r\nQ 21.96875 47.46875 24.109375 47.828125 \r\nQ 26.265625 48.1875 28.421875 48.1875 \r\nQ 40.625 48.1875 47.75 41.5 \r\nQ 54.890625 34.8125 54.890625 23.390625 \r\nQ 54.890625 11.625 47.5625 5.09375 \r\nQ 40.234375 -1.421875 26.90625 -1.421875 \r\nQ 22.3125 -1.421875 17.546875 -0.640625 \r\nQ 12.796875 0.140625 7.71875 1.703125 \r\nL 7.71875 11.625 \r\nQ 12.109375 9.234375 16.796875 8.0625 \r\nQ 21.484375 6.890625 26.703125 6.890625 \r\nQ 35.15625 6.890625 40.078125 11.328125 \r\nQ 45.015625 15.765625 45.015625 23.390625 \r\nQ 45.015625 31 40.078125 35.4375 \r\nQ 35.15625 39.890625 26.703125 39.890625 \r\nQ 22.75 39.890625 18.8125 39.015625 \r\nQ 14.890625 38.140625 10.796875 36.28125 \r\nz\r\n\" id=\"DejaVuSans-53\"/>\r\n      </defs>\r\n      <g transform=\"translate(7.2 95.759316)scale(0.1 -0.1)\">\r\n       <use xlink:href=\"#DejaVuSans-53\"/>\r\n       <use x=\"63.623047\" xlink:href=\"#DejaVuSans-48\"/>\r\n       <use x=\"127.246094\" xlink:href=\"#DejaVuSans-48\"/>\r\n       <use x=\"190.869141\" xlink:href=\"#DejaVuSans-48\"/>\r\n       <use x=\"254.492188\" xlink:href=\"#DejaVuSans-48\"/>\r\n       <use x=\"318.115234\" xlink:href=\"#DejaVuSans-48\"/>\r\n      </g>\r\n     </g>\r\n    </g>\r\n    <g id=\"ytick_7\">\r\n     <g id=\"line2d_12\">\r\n      <g>\r\n       <use style=\"stroke:#000000;stroke-width:0.8;\" x=\"52.375\" xlink:href=\"#m71dec95709\" y=\"64.973138\"/>\r\n      </g>\r\n     </g>\r\n     <g id=\"text_12\">\r\n      <!-- 600000 -->\r\n      <defs>\r\n       <path d=\"M 33.015625 40.375 \r\nQ 26.375 40.375 22.484375 35.828125 \r\nQ 18.609375 31.296875 18.609375 23.390625 \r\nQ 18.609375 15.53125 22.484375 10.953125 \r\nQ 26.375 6.390625 33.015625 6.390625 \r\nQ 39.65625 6.390625 43.53125 10.953125 \r\nQ 47.40625 15.53125 47.40625 23.390625 \r\nQ 47.40625 31.296875 43.53125 35.828125 \r\nQ 39.65625 40.375 33.015625 40.375 \r\nz\r\nM 52.59375 71.296875 \r\nL 52.59375 62.3125 \r\nQ 48.875 64.0625 45.09375 64.984375 \r\nQ 41.3125 65.921875 37.59375 65.921875 \r\nQ 27.828125 65.921875 22.671875 59.328125 \r\nQ 17.53125 52.734375 16.796875 39.40625 \r\nQ 19.671875 43.65625 24.015625 45.921875 \r\nQ 28.375 48.1875 33.59375 48.1875 \r\nQ 44.578125 48.1875 50.953125 41.515625 \r\nQ 57.328125 34.859375 57.328125 23.390625 \r\nQ 57.328125 12.15625 50.6875 5.359375 \r\nQ 44.046875 -1.421875 33.015625 -1.421875 \r\nQ 20.359375 -1.421875 13.671875 8.265625 \r\nQ 6.984375 17.96875 6.984375 36.375 \r\nQ 6.984375 53.65625 15.1875 63.9375 \r\nQ 23.390625 74.21875 37.203125 74.21875 \r\nQ 40.921875 74.21875 44.703125 73.484375 \r\nQ 48.484375 72.75 52.59375 71.296875 \r\nz\r\n\" id=\"DejaVuSans-54\"/>\r\n      </defs>\r\n      <g transform=\"translate(7.2 68.772357)scale(0.1 -0.1)\">\r\n       <use xlink:href=\"#DejaVuSans-54\"/>\r\n       <use x=\"63.623047\" xlink:href=\"#DejaVuSans-48\"/>\r\n       <use x=\"127.246094\" xlink:href=\"#DejaVuSans-48\"/>\r\n       <use x=\"190.869141\" xlink:href=\"#DejaVuSans-48\"/>\r\n       <use x=\"254.492188\" xlink:href=\"#DejaVuSans-48\"/>\r\n       <use x=\"318.115234\" xlink:href=\"#DejaVuSans-48\"/>\r\n      </g>\r\n     </g>\r\n    </g>\r\n    <g id=\"ytick_8\">\r\n     <g id=\"line2d_13\">\r\n      <g>\r\n       <use style=\"stroke:#000000;stroke-width:0.8;\" x=\"52.375\" xlink:href=\"#m71dec95709\" y=\"37.986178\"/>\r\n      </g>\r\n     </g>\r\n     <g id=\"text_13\">\r\n      <!-- 700000 -->\r\n      <defs>\r\n       <path d=\"M 8.203125 72.90625 \r\nL 55.078125 72.90625 \r\nL 55.078125 68.703125 \r\nL 28.609375 0 \r\nL 18.3125 0 \r\nL 43.21875 64.59375 \r\nL 8.203125 64.59375 \r\nz\r\n\" id=\"DejaVuSans-55\"/>\r\n      </defs>\r\n      <g transform=\"translate(7.2 41.785397)scale(0.1 -0.1)\">\r\n       <use xlink:href=\"#DejaVuSans-55\"/>\r\n       <use x=\"63.623047\" xlink:href=\"#DejaVuSans-48\"/>\r\n       <use x=\"127.246094\" xlink:href=\"#DejaVuSans-48\"/>\r\n       <use x=\"190.869141\" xlink:href=\"#DejaVuSans-48\"/>\r\n       <use x=\"254.492188\" xlink:href=\"#DejaVuSans-48\"/>\r\n       <use x=\"318.115234\" xlink:href=\"#DejaVuSans-48\"/>\r\n      </g>\r\n     </g>\r\n    </g>\r\n    <g id=\"ytick_9\">\r\n     <g id=\"line2d_14\">\r\n      <g>\r\n       <use style=\"stroke:#000000;stroke-width:0.8;\" x=\"52.375\" xlink:href=\"#m71dec95709\" y=\"10.999219\"/>\r\n      </g>\r\n     </g>\r\n     <g id=\"text_14\">\r\n      <!-- 800000 -->\r\n      <defs>\r\n       <path d=\"M 31.78125 34.625 \r\nQ 24.75 34.625 20.71875 30.859375 \r\nQ 16.703125 27.09375 16.703125 20.515625 \r\nQ 16.703125 13.921875 20.71875 10.15625 \r\nQ 24.75 6.390625 31.78125 6.390625 \r\nQ 38.8125 6.390625 42.859375 10.171875 \r\nQ 46.921875 13.96875 46.921875 20.515625 \r\nQ 46.921875 27.09375 42.890625 30.859375 \r\nQ 38.875 34.625 31.78125 34.625 \r\nz\r\nM 21.921875 38.8125 \r\nQ 15.578125 40.375 12.03125 44.71875 \r\nQ 8.5 49.078125 8.5 55.328125 \r\nQ 8.5 64.0625 14.71875 69.140625 \r\nQ 20.953125 74.21875 31.78125 74.21875 \r\nQ 42.671875 74.21875 48.875 69.140625 \r\nQ 55.078125 64.0625 55.078125 55.328125 \r\nQ 55.078125 49.078125 51.53125 44.71875 \r\nQ 48 40.375 41.703125 38.8125 \r\nQ 48.828125 37.15625 52.796875 32.3125 \r\nQ 56.78125 27.484375 56.78125 20.515625 \r\nQ 56.78125 9.90625 50.3125 4.234375 \r\nQ 43.84375 -1.421875 31.78125 -1.421875 \r\nQ 19.734375 -1.421875 13.25 4.234375 \r\nQ 6.78125 9.90625 6.78125 20.515625 \r\nQ 6.78125 27.484375 10.78125 32.3125 \r\nQ 14.796875 37.15625 21.921875 38.8125 \r\nz\r\nM 18.3125 54.390625 \r\nQ 18.3125 48.734375 21.84375 45.5625 \r\nQ 25.390625 42.390625 31.78125 42.390625 \r\nQ 38.140625 42.390625 41.71875 45.5625 \r\nQ 45.3125 48.734375 45.3125 54.390625 \r\nQ 45.3125 60.0625 41.71875 63.234375 \r\nQ 38.140625 66.40625 31.78125 66.40625 \r\nQ 25.390625 66.40625 21.84375 63.234375 \r\nQ 18.3125 60.0625 18.3125 54.390625 \r\nz\r\n\" id=\"DejaVuSans-56\"/>\r\n      </defs>\r\n      <g transform=\"translate(7.2 14.798437)scale(0.1 -0.1)\">\r\n       <use xlink:href=\"#DejaVuSans-56\"/>\r\n       <use x=\"63.623047\" xlink:href=\"#DejaVuSans-48\"/>\r\n       <use x=\"127.246094\" xlink:href=\"#DejaVuSans-48\"/>\r\n       <use x=\"190.869141\" xlink:href=\"#DejaVuSans-48\"/>\r\n       <use x=\"254.492188\" xlink:href=\"#DejaVuSans-48\"/>\r\n       <use x=\"318.115234\" xlink:href=\"#DejaVuSans-48\"/>\r\n      </g>\r\n     </g>\r\n    </g>\r\n   </g>\r\n   <g id=\"patch_8\">\r\n    <path d=\"M 52.375 226.894895 \r\nL 52.375 9.454895 \r\n\" style=\"fill:none;stroke:#000000;stroke-linecap:square;stroke-linejoin:miter;stroke-width:0.8;\"/>\r\n   </g>\r\n   <g id=\"patch_9\">\r\n    <path d=\"M 387.175 226.894895 \r\nL 387.175 9.454895 \r\n\" style=\"fill:none;stroke:#000000;stroke-linecap:square;stroke-linejoin:miter;stroke-width:0.8;\"/>\r\n   </g>\r\n   <g id=\"patch_10\">\r\n    <path d=\"M 52.375 226.894895 \r\nL 387.175 226.894895 \r\n\" style=\"fill:none;stroke:#000000;stroke-linecap:square;stroke-linejoin:miter;stroke-width:0.8;\"/>\r\n   </g>\r\n   <g id=\"patch_11\">\r\n    <path d=\"M 52.375 9.454895 \r\nL 387.175 9.454895 \r\n\" style=\"fill:none;stroke:#000000;stroke-linecap:square;stroke-linejoin:miter;stroke-width:0.8;\"/>\r\n   </g>\r\n  </g>\r\n </g>\r\n <defs>\r\n  <clipPath id=\"pdd84c018d4\">\r\n   <rect height=\"217.44\" width=\"334.8\" x=\"52.375\" y=\"9.454895\"/>\r\n  </clipPath>\r\n </defs>\r\n</svg>\r\n",
      "image/png": "[encoded data removed]"
     },
     "metadata": {
      "needs_background": "light"
     }
    }
   ],
   "source": [
    "bar_data = [bnnlf, normal_nnlf, ennlf, gnnlf, unnlf]\n",
    "label = [\"Beta\", \"Normal\", \"Exponential\", \"Gamma\", \"Uniform\"]\n",
    "plt.bar(label,bar_data)"
   ]
  },
  {
   "source": [
    "# 6. Print the distribution with minimum nnlf"
   ],
   "cell_type": "markdown",
   "metadata": {}
  },
  {
   "cell_type": "code",
   "execution_count": 13,
   "metadata": {},
   "outputs": [
    {
     "output_type": "stream",
     "name": "stdout",
     "text": [
      "Distribtion with min nnlf is :  636483.7835747075\n***Exponential Distribution has minimum nnlf***\n"
     ]
    }
   ],
   "source": [
    "a = bar_data.index(min(bar_data))\n",
    "print(\"Distribtion with min nnlf is : \",bar_data[a])\n",
    "print(\"***Exponential Distribution has minimum nnlf***\")"
   ]
  },
  {
   "source": [
    "# Summary\n",
    "\"\"\"\n",
    "- At first we added important liberaries which we will use\n",
    "- we loaded the data\n",
    "- we print head and tail of the data to get a little overview of the data\n",
    "- after it we print the info of data and checked whether it has null values or not.\n",
    "            \n",
    "            It does't have null values.....\n",
    "\n",
    "- Then we removed the comma from the column 'Market Cap' and converted its data type to int64\n",
    "- Then we calculated the nnlf for beta, normal, expon, gamma, uniform distribution\n",
    "- After it we plotted the bar graph to show the distributions and nnlf\n",
    "- At the last part we print the distribution with minimum nnlf\n"
   ],
   "cell_type": "markdown",
   "metadata": {}
  }
 ]
}